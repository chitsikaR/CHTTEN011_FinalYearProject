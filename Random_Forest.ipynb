{
  "nbformat": 4,
  "nbformat_minor": 0,
  "metadata": {
    "colab": {
      "name": "Random Forest.ipynb",
      "provenance": [],
      "authorship_tag": "ABX9TyMvEBMDncP79gCJUfkVM2zU",
      "include_colab_link": true
    },
    "kernelspec": {
      "name": "python3",
      "display_name": "Python 3"
    },
    "language_info": {
      "name": "python"
    }
  },
  "cells": [
    {
      "cell_type": "markdown",
      "metadata": {
        "id": "view-in-github",
        "colab_type": "text"
      },
      "source": [
        "<a href=\"https://colab.research.google.com/github/chitsikaR/CHTTEN011_FinalYearProject/blob/main/Random_Forest.ipynb\" target=\"_parent\"><img src=\"https://colab.research.google.com/assets/colab-badge.svg\" alt=\"Open In Colab\"/></a>"
      ]
    },
    {
      "cell_type": "code",
      "metadata": {
        "colab": {
          "base_uri": "https://localhost:8080/"
        },
        "id": "7GDvffszHdwi",
        "outputId": "39b3b487-0714-4050-d05b-a5665a031ccb"
      },
      "source": [
        "from google.colab import drive\n",
        "drive.mount('/content/drive')"
      ],
      "execution_count": null,
      "outputs": [
        {
          "output_type": "stream",
          "name": "stdout",
          "text": [
            "Mounted at /content/drive\n"
          ]
        }
      ]
    },
    {
      "cell_type": "code",
      "metadata": {
        "id": "j7pY5S00HsJs"
      },
      "source": [
        "#loading dataset\n",
        "import pandas as pd\n",
        "df = pd.read_csv(\"/content/drive/My Drive/dos_dataset/clean_2.csv\")\n",
        "\n"
      ],
      "execution_count": null,
      "outputs": []
    },
    {
      "cell_type": "code",
      "metadata": {
        "colab": {
          "base_uri": "https://localhost:8080/"
        },
        "id": "FsxG2soV7kVq",
        "outputId": "6f43ce1c-e67f-47ff-f6b3-383a9c81fb24"
      },
      "source": [
        "df.info()"
      ],
      "execution_count": null,
      "outputs": [
        {
          "output_type": "stream",
          "name": "stdout",
          "text": [
            "<class 'pandas.core.frame.DataFrame'>\n",
            "RangeIndex: 1245798 entries, 0 to 1245797\n",
            "Data columns (total 75 columns):\n",
            " #   Column                        Non-Null Count    Dtype  \n",
            "---  ------                        --------------    -----  \n",
            " 0   Unnamed: 0                    1245798 non-null  int64  \n",
            " 1   Unnamed: 0.1                  1245798 non-null  int64  \n",
            " 2   Unnamed: 0.1.1                1245798 non-null  int64  \n",
            " 3    Source IP                    1245798 non-null  int64  \n",
            " 4    Source Port                  1245798 non-null  int64  \n",
            " 5    Destination IP               1245798 non-null  int64  \n",
            " 6    Destination Port             1245798 non-null  int64  \n",
            " 7    Protocol                     1245798 non-null  int64  \n",
            " 8    Flow Duration                1245798 non-null  int64  \n",
            " 9    Total Fwd Packets            1245798 non-null  int64  \n",
            " 10   Total Backward Packets       1245798 non-null  int64  \n",
            " 11  Total Length of Fwd Packets   1245798 non-null  float64\n",
            " 12   Total Length of Bwd Packets  1245798 non-null  float64\n",
            " 13   Fwd Packet Length Max        1245798 non-null  float64\n",
            " 14   Fwd Packet Length Min        1245798 non-null  float64\n",
            " 15   Fwd Packet Length Mean       1245798 non-null  float64\n",
            " 16   Fwd Packet Length Std        1245798 non-null  float64\n",
            " 17  Bwd Packet Length Max         1245798 non-null  float64\n",
            " 18   Bwd Packet Length Min        1245798 non-null  float64\n",
            " 19   Bwd Packet Length Mean       1245798 non-null  float64\n",
            " 20   Bwd Packet Length Std        1245798 non-null  float64\n",
            " 21  Flow Bytes/s                  1245753 non-null  float64\n",
            " 22   Flow Packets/s               1245798 non-null  float64\n",
            " 23   Flow IAT Mean                1245798 non-null  float64\n",
            " 24   Flow IAT Std                 1245798 non-null  float64\n",
            " 25   Flow IAT Max                 1245798 non-null  float64\n",
            " 26   Flow IAT Min                 1245798 non-null  float64\n",
            " 27  Fwd IAT Total                 1245798 non-null  float64\n",
            " 28   Fwd IAT Mean                 1245798 non-null  float64\n",
            " 29   Fwd IAT Std                  1245798 non-null  float64\n",
            " 30   Fwd IAT Max                  1245798 non-null  float64\n",
            " 31   Fwd IAT Min                  1245798 non-null  float64\n",
            " 32  Bwd IAT Total                 1245798 non-null  float64\n",
            " 33   Bwd IAT Mean                 1245798 non-null  float64\n",
            " 34   Bwd IAT Std                  1245798 non-null  float64\n",
            " 35   Bwd IAT Max                  1245798 non-null  float64\n",
            " 36   Bwd IAT Min                  1245798 non-null  float64\n",
            " 37  Fwd PSH Flags                 1245798 non-null  int64  \n",
            " 38   Fwd Header Length            1245798 non-null  int64  \n",
            " 39   Bwd Header Length            1245798 non-null  int64  \n",
            " 40  Fwd Packets/s                 1245798 non-null  float64\n",
            " 41   Bwd Packets/s                1245798 non-null  float64\n",
            " 42   Min Packet Length            1245798 non-null  float64\n",
            " 43   Max Packet Length            1245798 non-null  float64\n",
            " 44   Packet Length Mean           1245798 non-null  float64\n",
            " 45   Packet Length Std            1245798 non-null  float64\n",
            " 46   Packet Length Variance       1245798 non-null  float64\n",
            " 47   SYN Flag Count               1245798 non-null  int64  \n",
            " 48   RST Flag Count               1245798 non-null  int64  \n",
            " 49   ACK Flag Count               1245798 non-null  int64  \n",
            " 50   URG Flag Count               1245798 non-null  int64  \n",
            " 51   CWE Flag Count               1245798 non-null  int64  \n",
            " 52   Down/Up Ratio                1245798 non-null  float64\n",
            " 53   Average Packet Size          1245798 non-null  float64\n",
            " 54   Avg Fwd Segment Size         1245798 non-null  float64\n",
            " 55   Avg Bwd Segment Size         1245798 non-null  float64\n",
            " 56   Fwd Header Length.1          1245798 non-null  int64  \n",
            " 57  Subflow Fwd Packets           1245798 non-null  int64  \n",
            " 58   Subflow Fwd Bytes            1245798 non-null  int64  \n",
            " 59   Subflow Bwd Packets          1245798 non-null  int64  \n",
            " 60   Subflow Bwd Bytes            1245798 non-null  int64  \n",
            " 61  Init_Win_bytes_forward        1245798 non-null  int64  \n",
            " 62   Init_Win_bytes_backward      1245798 non-null  int64  \n",
            " 63   act_data_pkt_fwd             1245798 non-null  int64  \n",
            " 64   min_seg_size_forward         1245798 non-null  int64  \n",
            " 65  Active Mean                   1245798 non-null  float64\n",
            " 66   Active Std                   1245798 non-null  float64\n",
            " 67   Active Max                   1245798 non-null  float64\n",
            " 68   Active Min                   1245798 non-null  float64\n",
            " 69  Idle Mean                     1245798 non-null  float64\n",
            " 70   Idle Std                     1245798 non-null  float64\n",
            " 71   Idle Max                     1245798 non-null  float64\n",
            " 72   Idle Min                     1245798 non-null  float64\n",
            " 73   Inbound                      1245798 non-null  int64  \n",
            " 74  Label                         1245798 non-null  int64  \n",
            "dtypes: float64(45), int64(30)\n",
            "memory usage: 712.9 MB\n"
          ]
        }
      ]
    },
    {
      "cell_type": "code",
      "metadata": {
        "id": "eHA-_3PF7xop"
      },
      "source": [
        "df=df.drop(' Source IP',axis=1)\n",
        "df=df.drop(' Flow Duration',axis=1)\n",
        "df=df.drop(' Total Fwd Packets',axis=1)\n",
        "df=df.drop(' Total Backward Packets',axis=1)\n",
        "df=df.drop(' Total Length of Bwd Packets',axis=1)\n",
        "df=df.drop(' Fwd Packet Length Std',axis=1)\n",
        "df=df.drop(' Flow IAT Max',axis=1)\n",
        "df=df.drop(' Flow IAT Min',axis=1)\n",
        "df=df.drop('Fwd IAT Total',axis=1)\n",
        "df=df.drop(' Fwd IAT Max',axis=1)\n",
        "df=df.drop(' Fwd IAT Min',axis=1)\n",
        "df=df.drop('Bwd IAT Total',axis=1)\n",
        "df=df.drop(' Bwd IAT Mean',axis=1)\n",
        "df=df.drop(' Bwd IAT Std',axis=1)\n",
        "df=df.drop(' Bwd IAT Max',axis=1)\n",
        "df=df.drop(' Bwd IAT Min',axis=1)\n",
        "df=df.drop(' Fwd Header Length',axis=1)\n",
        "df=df.drop(' Bwd Header Length',axis=1)\n",
        "df=df.drop(' Bwd Packets/s',axis=1)\n",
        "df=df.drop(' SYN Flag Count',axis=1)\n",
        "df=df.drop(' Down/Up Ratio',axis=1)\n",
        "df=df.drop(' Fwd Header Length.1',axis=1)\n",
        "df=df.drop('Subflow Fwd Packets',axis=1)\n",
        "df=df.drop(' Subflow Bwd Packets',axis=1)\n",
        "df=df.drop(' Subflow Bwd Bytes',axis=1)\n",
        "df=df.drop(' act_data_pkt_fwd',axis=1)\n",
        "df=df.drop(' min_seg_size_forward',axis=1)\n",
        "df=df.drop('Active Mean',axis=1)\n",
        "df=df.drop(' Active Std',axis=1)\n",
        "df=df.drop(' Active Max',axis=1)\n",
        "df=df.drop(' Active Min',axis=1)\n",
        "df=df.drop('Idle Mean',axis=1)\n",
        "df=df.drop(' Idle Max',axis=1)\n",
        "df=df.drop(' Idle Min',axis=1)\n",
        "df = df.drop(' Packet Length Std',axis=1)\n",
        "df = df.drop('Flow Bytes/s',axis=1)\n",
        "df = df.drop(' Flow Packets/s',axis=1)\n",
        "df=df.drop('Unnamed: 0',axis=1)\n",
        "df=df.drop('Unnamed: 0.1',axis=1)\n",
        "df=df.drop('Unnamed: 0.1.1',axis=1)"
      ],
      "execution_count": null,
      "outputs": []
    },
    {
      "cell_type": "code",
      "metadata": {
        "colab": {
          "base_uri": "https://localhost:8080/"
        },
        "id": "XRLBaJte8Rqb",
        "outputId": "c142ee78-23f0-4737-f3ab-97a2d384c1a2"
      },
      "source": [
        "df.info()"
      ],
      "execution_count": null,
      "outputs": [
        {
          "output_type": "stream",
          "name": "stdout",
          "text": [
            "<class 'pandas.core.frame.DataFrame'>\n",
            "RangeIndex: 1245798 entries, 0 to 1245797\n",
            "Data columns (total 35 columns):\n",
            " #   Column                       Non-Null Count    Dtype  \n",
            "---  ------                       --------------    -----  \n",
            " 0    Source Port                 1245798 non-null  int64  \n",
            " 1    Destination IP              1245798 non-null  int64  \n",
            " 2    Destination Port            1245798 non-null  int64  \n",
            " 3    Protocol                    1245798 non-null  int64  \n",
            " 4   Total Length of Fwd Packets  1245798 non-null  float64\n",
            " 5    Fwd Packet Length Max       1245798 non-null  float64\n",
            " 6    Fwd Packet Length Min       1245798 non-null  float64\n",
            " 7    Fwd Packet Length Mean      1245798 non-null  float64\n",
            " 8   Bwd Packet Length Max        1245798 non-null  float64\n",
            " 9    Bwd Packet Length Min       1245798 non-null  float64\n",
            " 10   Bwd Packet Length Mean      1245798 non-null  float64\n",
            " 11   Bwd Packet Length Std       1245798 non-null  float64\n",
            " 12   Flow IAT Mean               1245798 non-null  float64\n",
            " 13   Flow IAT Std                1245798 non-null  float64\n",
            " 14   Fwd IAT Mean                1245798 non-null  float64\n",
            " 15   Fwd IAT Std                 1245798 non-null  float64\n",
            " 16  Fwd PSH Flags                1245798 non-null  int64  \n",
            " 17  Fwd Packets/s                1245798 non-null  float64\n",
            " 18   Min Packet Length           1245798 non-null  float64\n",
            " 19   Max Packet Length           1245798 non-null  float64\n",
            " 20   Packet Length Mean          1245798 non-null  float64\n",
            " 21   Packet Length Variance      1245798 non-null  float64\n",
            " 22   RST Flag Count              1245798 non-null  int64  \n",
            " 23   ACK Flag Count              1245798 non-null  int64  \n",
            " 24   URG Flag Count              1245798 non-null  int64  \n",
            " 25   CWE Flag Count              1245798 non-null  int64  \n",
            " 26   Average Packet Size         1245798 non-null  float64\n",
            " 27   Avg Fwd Segment Size        1245798 non-null  float64\n",
            " 28   Avg Bwd Segment Size        1245798 non-null  float64\n",
            " 29   Subflow Fwd Bytes           1245798 non-null  int64  \n",
            " 30  Init_Win_bytes_forward       1245798 non-null  int64  \n",
            " 31   Init_Win_bytes_backward     1245798 non-null  int64  \n",
            " 32   Idle Std                    1245798 non-null  float64\n",
            " 33   Inbound                     1245798 non-null  int64  \n",
            " 34  Label                        1245798 non-null  int64  \n",
            "dtypes: float64(21), int64(14)\n",
            "memory usage: 332.7 MB\n"
          ]
        }
      ]
    },
    {
      "cell_type": "code",
      "metadata": {
        "id": "fR5IweEX8U6q"
      },
      "source": [
        "df.to_csv('extracted.csv')"
      ],
      "execution_count": null,
      "outputs": []
    },
    {
      "cell_type": "code",
      "metadata": {
        "colab": {
          "base_uri": "https://localhost:8080/",
          "height": 34
        },
        "id": "lsJro9419BJo",
        "outputId": "a207ab0e-1e55-4f3c-a682-8877decaddeb"
      },
      "source": [
        "from google.colab import files\n",
        "files.download('extracted.csv')"
      ],
      "execution_count": null,
      "outputs": [
        {
          "output_type": "display_data",
          "data": {
            "application/javascript": [
              "\n",
              "    async function download(id, filename, size) {\n",
              "      if (!google.colab.kernel.accessAllowed) {\n",
              "        return;\n",
              "      }\n",
              "      const div = document.createElement('div');\n",
              "      const label = document.createElement('label');\n",
              "      label.textContent = `Downloading \"${filename}\": `;\n",
              "      div.appendChild(label);\n",
              "      const progress = document.createElement('progress');\n",
              "      progress.max = size;\n",
              "      div.appendChild(progress);\n",
              "      document.body.appendChild(div);\n",
              "\n",
              "      const buffers = [];\n",
              "      let downloaded = 0;\n",
              "\n",
              "      const channel = await google.colab.kernel.comms.open(id);\n",
              "      // Send a message to notify the kernel that we're ready.\n",
              "      channel.send({})\n",
              "\n",
              "      for await (const message of channel.messages) {\n",
              "        // Send a message to notify the kernel that we're ready.\n",
              "        channel.send({})\n",
              "        if (message.buffers) {\n",
              "          for (const buffer of message.buffers) {\n",
              "            buffers.push(buffer);\n",
              "            downloaded += buffer.byteLength;\n",
              "            progress.value = downloaded;\n",
              "          }\n",
              "        }\n",
              "      }\n",
              "      const blob = new Blob(buffers, {type: 'application/binary'});\n",
              "      const a = document.createElement('a');\n",
              "      a.href = window.URL.createObjectURL(blob);\n",
              "      a.download = filename;\n",
              "      div.appendChild(a);\n",
              "      a.click();\n",
              "      div.remove();\n",
              "    }\n",
              "  "
            ],
            "text/plain": [
              "<IPython.core.display.Javascript object>"
            ]
          },
          "metadata": {}
        },
        {
          "output_type": "display_data",
          "data": {
            "application/javascript": [
              "download(\"download_9b938047-9386-4af1-a647-b5eec6fd8f21\", \"extracted.csv\", 220039669)"
            ],
            "text/plain": [
              "<IPython.core.display.Javascript object>"
            ]
          },
          "metadata": {}
        }
      ]
    },
    {
      "cell_type": "code",
      "metadata": {
        "id": "pEjBIMZp8rdM"
      },
      "source": [
        "df1 = pd.read_csv(\"/content/drive/My Drive/dos_dataset/extracted.csv\")"
      ],
      "execution_count": null,
      "outputs": []
    },
    {
      "cell_type": "code",
      "metadata": {
        "id": "peb-GLrV7gzG"
      },
      "source": [
        "#normalizing the data\n",
        "normalized_df=(df-df.mean())/df.std()"
      ],
      "execution_count": null,
      "outputs": []
    },
    {
      "cell_type": "code",
      "metadata": {
        "colab": {
          "base_uri": "https://localhost:8080/"
        },
        "id": "RWAdzm0OA9mf",
        "outputId": "d8e5e474-cd95-42db-e425-b30c245f8af9"
      },
      "source": [
        "#df=df.drop('Unnamed: 0.1',axis=1)\n",
        "x=df.iloc[:,df.columns != 'Label']\n",
        "y=df.iloc[:,-1]\n",
        "print(\"x\\n\",x.info())\n",
        "y = pd.DataFrame(y)\n",
        "print('y\\n',y.info())"
      ],
      "execution_count": null,
      "outputs": [
        {
          "output_type": "stream",
          "name": "stdout",
          "text": [
            "<class 'pandas.core.frame.DataFrame'>\n",
            "RangeIndex: 1245798 entries, 0 to 1245797\n",
            "Data columns (total 34 columns):\n",
            " #   Column                       Non-Null Count    Dtype  \n",
            "---  ------                       --------------    -----  \n",
            " 0    Source Port                 1245798 non-null  int64  \n",
            " 1    Destination IP              1245798 non-null  int64  \n",
            " 2    Destination Port            1245798 non-null  int64  \n",
            " 3    Protocol                    1245798 non-null  int64  \n",
            " 4   Total Length of Fwd Packets  1245798 non-null  float64\n",
            " 5    Fwd Packet Length Max       1245798 non-null  float64\n",
            " 6    Fwd Packet Length Min       1245798 non-null  float64\n",
            " 7    Fwd Packet Length Mean      1245798 non-null  float64\n",
            " 8   Bwd Packet Length Max        1245798 non-null  float64\n",
            " 9    Bwd Packet Length Min       1245798 non-null  float64\n",
            " 10   Bwd Packet Length Mean      1245798 non-null  float64\n",
            " 11   Bwd Packet Length Std       1245798 non-null  float64\n",
            " 12   Flow IAT Mean               1245798 non-null  float64\n",
            " 13   Flow IAT Std                1245798 non-null  float64\n",
            " 14   Fwd IAT Mean                1245798 non-null  float64\n",
            " 15   Fwd IAT Std                 1245798 non-null  float64\n",
            " 16  Fwd PSH Flags                1245798 non-null  int64  \n",
            " 17  Fwd Packets/s                1245798 non-null  float64\n",
            " 18   Min Packet Length           1245798 non-null  float64\n",
            " 19   Max Packet Length           1245798 non-null  float64\n",
            " 20   Packet Length Mean          1245798 non-null  float64\n",
            " 21   Packet Length Variance      1245798 non-null  float64\n",
            " 22   RST Flag Count              1245798 non-null  int64  \n",
            " 23   ACK Flag Count              1245798 non-null  int64  \n",
            " 24   URG Flag Count              1245798 non-null  int64  \n",
            " 25   CWE Flag Count              1245798 non-null  int64  \n",
            " 26   Average Packet Size         1245798 non-null  float64\n",
            " 27   Avg Fwd Segment Size        1245798 non-null  float64\n",
            " 28   Avg Bwd Segment Size        1245798 non-null  float64\n",
            " 29   Subflow Fwd Bytes           1245798 non-null  int64  \n",
            " 30  Init_Win_bytes_forward       1245798 non-null  int64  \n",
            " 31   Init_Win_bytes_backward     1245798 non-null  int64  \n",
            " 32   Idle Std                    1245798 non-null  float64\n",
            " 33   Inbound                     1245798 non-null  int64  \n",
            "dtypes: float64(21), int64(13)\n",
            "memory usage: 323.2 MB\n",
            "x\n",
            " None\n",
            "<class 'pandas.core.frame.DataFrame'>\n",
            "RangeIndex: 1245798 entries, 0 to 1245797\n",
            "Data columns (total 1 columns):\n",
            " #   Column  Non-Null Count    Dtype\n",
            "---  ------  --------------    -----\n",
            " 0   Label   1245798 non-null  int64\n",
            "dtypes: int64(1)\n",
            "memory usage: 9.5 MB\n",
            "y\n",
            " None\n"
          ]
        }
      ]
    },
    {
      "cell_type": "code",
      "metadata": {
        "id": "AtZ-MOQF-Th8"
      },
      "source": [
        ""
      ],
      "execution_count": null,
      "outputs": []
    },
    {
      "cell_type": "code",
      "metadata": {
        "id": "2wqNxO7RA-r3"
      },
      "source": [
        "y=pd.DataFrame(y)"
      ],
      "execution_count": null,
      "outputs": []
    },
    {
      "cell_type": "code",
      "metadata": {
        "id": "TCGq5m2yBC7e"
      },
      "source": [
        "normalized_x=normalized_df.iloc[:,normalized_df.columns != 'Label']"
      ],
      "execution_count": null,
      "outputs": []
    },
    {
      "cell_type": "code",
      "metadata": {
        "colab": {
          "base_uri": "https://localhost:8080/",
          "height": 436
        },
        "id": "2MFkrGKjBIeO",
        "outputId": "7404ad0d-aa21-41c8-feef-32f7859011ca"
      },
      "source": [
        "normalized_df.describe()"
      ],
      "execution_count": null,
      "outputs": [
        {
          "output_type": "execute_result",
          "data": {
            "text/html": [
              "<div>\n",
              "<style scoped>\n",
              "    .dataframe tbody tr th:only-of-type {\n",
              "        vertical-align: middle;\n",
              "    }\n",
              "\n",
              "    .dataframe tbody tr th {\n",
              "        vertical-align: top;\n",
              "    }\n",
              "\n",
              "    .dataframe thead th {\n",
              "        text-align: right;\n",
              "    }\n",
              "</style>\n",
              "<table border=\"1\" class=\"dataframe\">\n",
              "  <thead>\n",
              "    <tr style=\"text-align: right;\">\n",
              "      <th></th>\n",
              "      <th>Source Port</th>\n",
              "      <th>Destination IP</th>\n",
              "      <th>Destination Port</th>\n",
              "      <th>Protocol</th>\n",
              "      <th>Total Length of Fwd Packets</th>\n",
              "      <th>Fwd Packet Length Max</th>\n",
              "      <th>Fwd Packet Length Min</th>\n",
              "      <th>Fwd Packet Length Mean</th>\n",
              "      <th>Bwd Packet Length Max</th>\n",
              "      <th>Bwd Packet Length Min</th>\n",
              "      <th>Bwd Packet Length Mean</th>\n",
              "      <th>Bwd Packet Length Std</th>\n",
              "      <th>Flow IAT Mean</th>\n",
              "      <th>Flow IAT Std</th>\n",
              "      <th>Fwd IAT Mean</th>\n",
              "      <th>Fwd IAT Std</th>\n",
              "      <th>Fwd PSH Flags</th>\n",
              "      <th>Fwd Packets/s</th>\n",
              "      <th>Min Packet Length</th>\n",
              "      <th>Max Packet Length</th>\n",
              "      <th>Packet Length Mean</th>\n",
              "      <th>Packet Length Variance</th>\n",
              "      <th>RST Flag Count</th>\n",
              "      <th>ACK Flag Count</th>\n",
              "      <th>URG Flag Count</th>\n",
              "      <th>CWE Flag Count</th>\n",
              "      <th>Average Packet Size</th>\n",
              "      <th>Avg Fwd Segment Size</th>\n",
              "      <th>Avg Bwd Segment Size</th>\n",
              "      <th>Subflow Fwd Bytes</th>\n",
              "      <th>Init_Win_bytes_forward</th>\n",
              "      <th>Init_Win_bytes_backward</th>\n",
              "      <th>Idle Std</th>\n",
              "      <th>Inbound</th>\n",
              "      <th>Label</th>\n",
              "    </tr>\n",
              "  </thead>\n",
              "  <tbody>\n",
              "    <tr>\n",
              "      <th>count</th>\n",
              "      <td>1.245798e+06</td>\n",
              "      <td>1.245798e+06</td>\n",
              "      <td>1.245798e+06</td>\n",
              "      <td>1.245798e+06</td>\n",
              "      <td>1.245798e+06</td>\n",
              "      <td>1.245798e+06</td>\n",
              "      <td>1.245798e+06</td>\n",
              "      <td>1.245798e+06</td>\n",
              "      <td>1.245798e+06</td>\n",
              "      <td>1.245798e+06</td>\n",
              "      <td>1.245798e+06</td>\n",
              "      <td>1.245798e+06</td>\n",
              "      <td>1.245798e+06</td>\n",
              "      <td>1.245798e+06</td>\n",
              "      <td>1.245798e+06</td>\n",
              "      <td>1.245798e+06</td>\n",
              "      <td>1.245798e+06</td>\n",
              "      <td>1.245798e+06</td>\n",
              "      <td>1.245798e+06</td>\n",
              "      <td>1.245798e+06</td>\n",
              "      <td>1.245798e+06</td>\n",
              "      <td>1.245798e+06</td>\n",
              "      <td>1.245798e+06</td>\n",
              "      <td>1.245798e+06</td>\n",
              "      <td>1.245798e+06</td>\n",
              "      <td>1.245798e+06</td>\n",
              "      <td>1.245798e+06</td>\n",
              "      <td>1.245798e+06</td>\n",
              "      <td>1.245798e+06</td>\n",
              "      <td>1.245798e+06</td>\n",
              "      <td>1.245798e+06</td>\n",
              "      <td>1.245798e+06</td>\n",
              "      <td>1.245798e+06</td>\n",
              "      <td>1.245798e+06</td>\n",
              "      <td>1.245798e+06</td>\n",
              "    </tr>\n",
              "    <tr>\n",
              "      <th>mean</th>\n",
              "      <td>1.054733e-12</td>\n",
              "      <td>1.373855e-13</td>\n",
              "      <td>-4.158871e-15</td>\n",
              "      <td>-1.240177e-11</td>\n",
              "      <td>1.063288e-13</td>\n",
              "      <td>-8.237663e-13</td>\n",
              "      <td>2.961019e-12</td>\n",
              "      <td>-1.186983e-12</td>\n",
              "      <td>8.682086e-13</td>\n",
              "      <td>9.755238e-13</td>\n",
              "      <td>-8.253327e-13</td>\n",
              "      <td>-1.077336e-12</td>\n",
              "      <td>2.138927e-12</td>\n",
              "      <td>2.701441e-12</td>\n",
              "      <td>-2.322818e-12</td>\n",
              "      <td>1.352296e-12</td>\n",
              "      <td>7.837405e-13</td>\n",
              "      <td>1.950589e-12</td>\n",
              "      <td>3.237758e-12</td>\n",
              "      <td>1.526851e-12</td>\n",
              "      <td>-1.568473e-12</td>\n",
              "      <td>-7.298400e-13</td>\n",
              "      <td>7.837405e-13</td>\n",
              "      <td>-3.928092e-12</td>\n",
              "      <td>-2.100294e-12</td>\n",
              "      <td>-3.022469e-13</td>\n",
              "      <td>1.306471e-12</td>\n",
              "      <td>-1.186983e-12</td>\n",
              "      <td>-8.253385e-13</td>\n",
              "      <td>1.063288e-13</td>\n",
              "      <td>1.868235e-12</td>\n",
              "      <td>1.265760e-13</td>\n",
              "      <td>-1.166242e-12</td>\n",
              "      <td>-2.792804e-12</td>\n",
              "      <td>-4.782956e-12</td>\n",
              "    </tr>\n",
              "    <tr>\n",
              "      <th>std</th>\n",
              "      <td>1.000000e+00</td>\n",
              "      <td>1.000000e+00</td>\n",
              "      <td>1.000000e+00</td>\n",
              "      <td>1.000000e+00</td>\n",
              "      <td>1.000000e+00</td>\n",
              "      <td>1.000000e+00</td>\n",
              "      <td>1.000000e+00</td>\n",
              "      <td>1.000000e+00</td>\n",
              "      <td>1.000000e+00</td>\n",
              "      <td>1.000000e+00</td>\n",
              "      <td>1.000000e+00</td>\n",
              "      <td>1.000000e+00</td>\n",
              "      <td>1.000000e+00</td>\n",
              "      <td>1.000000e+00</td>\n",
              "      <td>1.000000e+00</td>\n",
              "      <td>1.000000e+00</td>\n",
              "      <td>1.000000e+00</td>\n",
              "      <td>1.000000e+00</td>\n",
              "      <td>1.000000e+00</td>\n",
              "      <td>1.000000e+00</td>\n",
              "      <td>1.000000e+00</td>\n",
              "      <td>1.000000e+00</td>\n",
              "      <td>1.000000e+00</td>\n",
              "      <td>1.000000e+00</td>\n",
              "      <td>1.000000e+00</td>\n",
              "      <td>1.000000e+00</td>\n",
              "      <td>1.000000e+00</td>\n",
              "      <td>1.000000e+00</td>\n",
              "      <td>1.000000e+00</td>\n",
              "      <td>1.000000e+00</td>\n",
              "      <td>1.000000e+00</td>\n",
              "      <td>1.000000e+00</td>\n",
              "      <td>1.000000e+00</td>\n",
              "      <td>1.000000e+00</td>\n",
              "      <td>1.000000e+00</td>\n",
              "    </tr>\n",
              "    <tr>\n",
              "      <th>min</th>\n",
              "      <td>-9.406960e-01</td>\n",
              "      <td>-7.380619e+00</td>\n",
              "      <td>-1.627133e+00</td>\n",
              "      <td>-3.406373e+00</td>\n",
              "      <td>-7.420674e-01</td>\n",
              "      <td>-9.673956e-01</td>\n",
              "      <td>-9.476172e-01</td>\n",
              "      <td>-9.575252e-01</td>\n",
              "      <td>-8.525948e-02</td>\n",
              "      <td>-1.383783e-01</td>\n",
              "      <td>-9.547846e-02</td>\n",
              "      <td>-7.687141e-02</td>\n",
              "      <td>-2.162110e-01</td>\n",
              "      <td>-2.229338e-01</td>\n",
              "      <td>-2.270074e-01</td>\n",
              "      <td>-2.225459e-01</td>\n",
              "      <td>-9.047062e-02</td>\n",
              "      <td>-1.335889e+00</td>\n",
              "      <td>-9.475020e-01</td>\n",
              "      <td>-9.527515e-01</td>\n",
              "      <td>-9.610563e-01</td>\n",
              "      <td>-6.973740e-02</td>\n",
              "      <td>-9.047062e-02</td>\n",
              "      <td>-4.525416e-01</td>\n",
              "      <td>-1.533709e-01</td>\n",
              "      <td>-1.014731e-01</td>\n",
              "      <td>-9.434708e-01</td>\n",
              "      <td>-9.575252e-01</td>\n",
              "      <td>-9.547846e-02</td>\n",
              "      <td>-7.420674e-01</td>\n",
              "      <td>-3.622846e-01</td>\n",
              "      <td>-5.777066e-02</td>\n",
              "      <td>-1.627934e-01</td>\n",
              "      <td>-5.061243e+00</td>\n",
              "      <td>-1.822172e+00</td>\n",
              "    </tr>\n",
              "    <tr>\n",
              "      <th>25%</th>\n",
              "      <td>-9.092742e-01</td>\n",
              "      <td>1.575856e-01</td>\n",
              "      <td>-8.716894e-01</td>\n",
              "      <td>4.899846e-01</td>\n",
              "      <td>-4.243941e-01</td>\n",
              "      <td>-4.940017e-01</td>\n",
              "      <td>-4.720244e-01</td>\n",
              "      <td>-4.805696e-01</td>\n",
              "      <td>-8.525948e-02</td>\n",
              "      <td>-1.383783e-01</td>\n",
              "      <td>-9.547846e-02</td>\n",
              "      <td>-7.687141e-02</td>\n",
              "      <td>-2.162100e-01</td>\n",
              "      <td>-2.229338e-01</td>\n",
              "      <td>-2.270067e-01</td>\n",
              "      <td>-2.225459e-01</td>\n",
              "      <td>-9.047062e-02</td>\n",
              "      <td>-1.293230e+00</td>\n",
              "      <td>-4.718853e-01</td>\n",
              "      <td>-4.948748e-01</td>\n",
              "      <td>-4.835507e-01</td>\n",
              "      <td>-6.973740e-02</td>\n",
              "      <td>-9.047062e-02</td>\n",
              "      <td>-4.525416e-01</td>\n",
              "      <td>-1.533709e-01</td>\n",
              "      <td>-1.014731e-01</td>\n",
              "      <td>-4.677879e-01</td>\n",
              "      <td>-4.805696e-01</td>\n",
              "      <td>-9.547846e-02</td>\n",
              "      <td>-4.243941e-01</td>\n",
              "      <td>-3.622846e-01</td>\n",
              "      <td>-5.777066e-02</td>\n",
              "      <td>-1.627934e-01</td>\n",
              "      <td>1.975798e-01</td>\n",
              "      <td>-7.310472e-01</td>\n",
              "    </tr>\n",
              "    <tr>\n",
              "      <th>50%</th>\n",
              "      <td>-5.546851e-01</td>\n",
              "      <td>1.575856e-01</td>\n",
              "      <td>1.857374e-03</td>\n",
              "      <td>4.899846e-01</td>\n",
              "      <td>-3.994241e-01</td>\n",
              "      <td>-4.567917e-01</td>\n",
              "      <td>-4.346415e-01</td>\n",
              "      <td>-4.430796e-01</td>\n",
              "      <td>-8.525948e-02</td>\n",
              "      <td>-1.383783e-01</td>\n",
              "      <td>-9.547846e-02</td>\n",
              "      <td>-7.687141e-02</td>\n",
              "      <td>-2.162100e-01</td>\n",
              "      <td>-2.229338e-01</td>\n",
              "      <td>-2.270067e-01</td>\n",
              "      <td>-2.225459e-01</td>\n",
              "      <td>-9.047062e-02</td>\n",
              "      <td>8.397680e-01</td>\n",
              "      <td>-4.345006e-01</td>\n",
              "      <td>-4.588845e-01</td>\n",
              "      <td>-4.460175e-01</td>\n",
              "      <td>-6.973740e-02</td>\n",
              "      <td>-9.047062e-02</td>\n",
              "      <td>-4.525416e-01</td>\n",
              "      <td>-1.533709e-01</td>\n",
              "      <td>-1.014731e-01</td>\n",
              "      <td>-4.303980e-01</td>\n",
              "      <td>-4.430796e-01</td>\n",
              "      <td>-9.547846e-02</td>\n",
              "      <td>-3.994241e-01</td>\n",
              "      <td>-3.622846e-01</td>\n",
              "      <td>-5.777066e-02</td>\n",
              "      <td>-1.627934e-01</td>\n",
              "      <td>1.975798e-01</td>\n",
              "      <td>-1.854849e-01</td>\n",
              "    </tr>\n",
              "    <tr>\n",
              "      <th>75%</th>\n",
              "      <td>1.002261e+00</td>\n",
              "      <td>1.575856e-01</td>\n",
              "      <td>8.720852e-01</td>\n",
              "      <td>4.899846e-01</td>\n",
              "      <td>2.275992e-01</td>\n",
              "      <td>3.313989e-02</td>\n",
              "      <td>3.264403e-02</td>\n",
              "      <td>2.554496e-02</td>\n",
              "      <td>-8.525948e-02</td>\n",
              "      <td>-1.383783e-01</td>\n",
              "      <td>-9.547846e-02</td>\n",
              "      <td>-7.687141e-02</td>\n",
              "      <td>-2.161664e-01</td>\n",
              "      <td>-2.229338e-01</td>\n",
              "      <td>-2.270051e-01</td>\n",
              "      <td>-2.225459e-01</td>\n",
              "      <td>-9.047062e-02</td>\n",
              "      <td>8.397680e-01</td>\n",
              "      <td>3.280845e-02</td>\n",
              "      <td>1.698744e-02</td>\n",
              "      <td>2.731780e-02</td>\n",
              "      <td>-6.973740e-02</td>\n",
              "      <td>-9.047062e-02</td>\n",
              "      <td>-4.525416e-01</td>\n",
              "      <td>-1.533709e-01</td>\n",
              "      <td>-1.014731e-01</td>\n",
              "      <td>3.697599e-02</td>\n",
              "      <td>2.554496e-02</td>\n",
              "      <td>-9.547846e-02</td>\n",
              "      <td>2.275992e-01</td>\n",
              "      <td>-3.622846e-01</td>\n",
              "      <td>-5.777066e-02</td>\n",
              "      <td>-1.627934e-01</td>\n",
              "      <td>1.975798e-01</td>\n",
              "      <td>9.056397e-01</td>\n",
              "    </tr>\n",
              "    <tr>\n",
              "      <th>max</th>\n",
              "      <td>1.737069e+00</td>\n",
              "      <td>2.688699e+00</td>\n",
              "      <td>1.719132e+00</td>\n",
              "      <td>4.899846e-01</td>\n",
              "      <td>1.438922e+02</td>\n",
              "      <td>6.526284e+00</td>\n",
              "      <td>3.478096e+00</td>\n",
              "      <td>3.480870e+00</td>\n",
              "      <td>2.087880e+01</td>\n",
              "      <td>1.169603e+02</td>\n",
              "      <td>3.400920e+01</td>\n",
              "      <td>2.665214e+01</td>\n",
              "      <td>4.647298e+01</td>\n",
              "      <td>3.616130e+01</td>\n",
              "      <td>3.618543e+01</td>\n",
              "      <td>3.342313e+01</td>\n",
              "      <td>1.105330e+01</td>\n",
              "      <td>1.927597e+00</td>\n",
              "      <td>2.109737e+00</td>\n",
              "      <td>6.299296e+00</td>\n",
              "      <td>2.627832e+00</td>\n",
              "      <td>4.752430e+01</td>\n",
              "      <td>1.105330e+01</td>\n",
              "      <td>2.209740e+00</td>\n",
              "      <td>6.520136e+00</td>\n",
              "      <td>9.854818e+00</td>\n",
              "      <td>2.114194e+00</td>\n",
              "      <td>3.480870e+00</td>\n",
              "      <td>3.400920e+01</td>\n",
              "      <td>1.438922e+02</td>\n",
              "      <td>1.931135e+01</td>\n",
              "      <td>3.087008e+01</td>\n",
              "      <td>5.903799e+01</td>\n",
              "      <td>1.975798e-01</td>\n",
              "      <td>1.996764e+00</td>\n",
              "    </tr>\n",
              "  </tbody>\n",
              "</table>\n",
              "</div>"
            ],
            "text/plain": [
              "        Source Port   Destination IP  ...       Inbound         Label\n",
              "count  1.245798e+06     1.245798e+06  ...  1.245798e+06  1.245798e+06\n",
              "mean   1.054733e-12     1.373855e-13  ... -2.792804e-12 -4.782956e-12\n",
              "std    1.000000e+00     1.000000e+00  ...  1.000000e+00  1.000000e+00\n",
              "min   -9.406960e-01    -7.380619e+00  ... -5.061243e+00 -1.822172e+00\n",
              "25%   -9.092742e-01     1.575856e-01  ...  1.975798e-01 -7.310472e-01\n",
              "50%   -5.546851e-01     1.575856e-01  ...  1.975798e-01 -1.854849e-01\n",
              "75%    1.002261e+00     1.575856e-01  ...  1.975798e-01  9.056397e-01\n",
              "max    1.737069e+00     2.688699e+00  ...  1.975798e-01  1.996764e+00\n",
              "\n",
              "[8 rows x 35 columns]"
            ]
          },
          "metadata": {},
          "execution_count": 13
        }
      ]
    },
    {
      "cell_type": "code",
      "metadata": {
        "colab": {
          "base_uri": "https://localhost:8080/"
        },
        "id": "C5AFASq3BJj-",
        "outputId": "9de4b3e3-5c8c-4a12-a9b6-ee3fec7c46ed"
      },
      "source": [
        "normalized_x.info()"
      ],
      "execution_count": null,
      "outputs": [
        {
          "output_type": "stream",
          "name": "stdout",
          "text": [
            "<class 'pandas.core.frame.DataFrame'>\n",
            "RangeIndex: 1245798 entries, 0 to 1245797\n",
            "Data columns (total 34 columns):\n",
            " #   Column                       Non-Null Count    Dtype  \n",
            "---  ------                       --------------    -----  \n",
            " 0    Source Port                 1245798 non-null  float64\n",
            " 1    Destination IP              1245798 non-null  float64\n",
            " 2    Destination Port            1245798 non-null  float64\n",
            " 3    Protocol                    1245798 non-null  float64\n",
            " 4   Total Length of Fwd Packets  1245798 non-null  float64\n",
            " 5    Fwd Packet Length Max       1245798 non-null  float64\n",
            " 6    Fwd Packet Length Min       1245798 non-null  float64\n",
            " 7    Fwd Packet Length Mean      1245798 non-null  float64\n",
            " 8   Bwd Packet Length Max        1245798 non-null  float64\n",
            " 9    Bwd Packet Length Min       1245798 non-null  float64\n",
            " 10   Bwd Packet Length Mean      1245798 non-null  float64\n",
            " 11   Bwd Packet Length Std       1245798 non-null  float64\n",
            " 12   Flow IAT Mean               1245798 non-null  float64\n",
            " 13   Flow IAT Std                1245798 non-null  float64\n",
            " 14   Fwd IAT Mean                1245798 non-null  float64\n",
            " 15   Fwd IAT Std                 1245798 non-null  float64\n",
            " 16  Fwd PSH Flags                1245798 non-null  float64\n",
            " 17  Fwd Packets/s                1245798 non-null  float64\n",
            " 18   Min Packet Length           1245798 non-null  float64\n",
            " 19   Max Packet Length           1245798 non-null  float64\n",
            " 20   Packet Length Mean          1245798 non-null  float64\n",
            " 21   Packet Length Variance      1245798 non-null  float64\n",
            " 22   RST Flag Count              1245798 non-null  float64\n",
            " 23   ACK Flag Count              1245798 non-null  float64\n",
            " 24   URG Flag Count              1245798 non-null  float64\n",
            " 25   CWE Flag Count              1245798 non-null  float64\n",
            " 26   Average Packet Size         1245798 non-null  float64\n",
            " 27   Avg Fwd Segment Size        1245798 non-null  float64\n",
            " 28   Avg Bwd Segment Size        1245798 non-null  float64\n",
            " 29   Subflow Fwd Bytes           1245798 non-null  float64\n",
            " 30  Init_Win_bytes_forward       1245798 non-null  float64\n",
            " 31   Init_Win_bytes_backward     1245798 non-null  float64\n",
            " 32   Idle Std                    1245798 non-null  float64\n",
            " 33   Inbound                     1245798 non-null  float64\n",
            "dtypes: float64(34)\n",
            "memory usage: 323.2 MB\n"
          ]
        }
      ]
    },
    {
      "cell_type": "code",
      "metadata": {
        "id": "BXpG8t54JK_r"
      },
      "source": [
        "\n",
        "from sklearn.model_selection import train_test_split\n",
        "import numpy as np\n",
        "X_train, X_test, y_train, y_test = train_test_split(normalized_x, y, test_size=0.25, random_state=42)\n",
        "y_train = np.array(y_train)"
      ],
      "execution_count": null,
      "outputs": []
    },
    {
      "cell_type": "code",
      "metadata": {
        "id": "zu1x7hbaJRBh"
      },
      "source": [
        "y_train = np.array(y_train)\n",
        "y_test = np.array(y_test)\n",
        "X_train = np.array(X_train)\n",
        "X_test = np.array(X_test)\n",
        "X_train = np.reshape(X_train, (X_train.shape[0],X_train.shape[1]))\n",
        "X_test = np.reshape(X_test, (X_test.shape[0],X_test.shape[1]))"
      ],
      "execution_count": null,
      "outputs": []
    },
    {
      "cell_type": "code",
      "metadata": {
        "colab": {
          "base_uri": "https://localhost:8080/"
        },
        "id": "vEx1OuGVJT_x",
        "outputId": "f78baaa6-b290-4582-a240-626ed821a077"
      },
      "source": [
        "print('xtrain={}, ytrain={}, xtest={}, ytest={}'.format(X_train.shape,y_train.shape,X_test.shape,y_test.shape))"
      ],
      "execution_count": null,
      "outputs": [
        {
          "output_type": "stream",
          "name": "stdout",
          "text": [
            "xtrain=(934348, 34), ytrain=(934348, 1), xtest=(311450, 34), ytest=(311450, 1)\n"
          ]
        }
      ]
    },
    {
      "cell_type": "code",
      "metadata": {
        "colab": {
          "base_uri": "https://localhost:8080/"
        },
        "id": "-lI_tVonB_vX",
        "outputId": "9a724d74-f7e8-4ef7-ec47-0eeaf726f4a9"
      },
      "source": [
        "from sklearn.ensemble import RandomForestClassifier\n",
        "\n",
        "classifier = RandomForestClassifier(n_estimators=20, random_state=0)\n",
        "classifier.fit(X_train, y_train)\n",
        "y_pred = classifier.predict(X_test)"
      ],
      "execution_count": null,
      "outputs": [
        {
          "output_type": "stream",
          "name": "stderr",
          "text": [
            "/usr/local/lib/python3.7/dist-packages/ipykernel_launcher.py:4: DataConversionWarning: A column-vector y was passed when a 1d array was expected. Please change the shape of y to (n_samples,), for example using ravel().\n",
            "  after removing the cwd from sys.path.\n"
          ]
        }
      ]
    },
    {
      "cell_type": "code",
      "metadata": {
        "colab": {
          "base_uri": "https://localhost:8080/"
        },
        "id": "2Ul77QlfQeAr",
        "outputId": "3c902158-843c-4a89-bbac-57486a60b217"
      },
      "source": [
        "from sklearn import metrics\n",
        "y_pred = classifier.predict(X_test)\n",
        "print(\"Accuracy =\", metrics.accuracy_score(y_test, y_pred))"
      ],
      "execution_count": null,
      "outputs": [
        {
          "output_type": "stream",
          "name": "stdout",
          "text": [
            "Accuracy = 0.8754021512281265\n"
          ]
        }
      ]
    },
    {
      "cell_type": "code",
      "metadata": {
        "id": "KHw5nBTtPpJX"
      },
      "source": [
        "pred = classifier.predict(X_test)"
      ],
      "execution_count": null,
      "outputs": []
    },
    {
      "cell_type": "code",
      "metadata": {
        "colab": {
          "base_uri": "https://localhost:8080/"
        },
        "id": "UQP1aLZ7MAmp",
        "outputId": "531690cb-3ac7-47c9-d3ab-ca7a231afe15"
      },
      "source": [
        "from sklearn import metrics\n",
        "from sklearn.metrics import f1_score\n",
        "\n",
        "print('Random')\n",
        "\n",
        "print('Accuracy = ', metrics.accuracy_score(y_test, pred)*100)\n",
        "print(\"Confusion Matrix =\\n\", metrics.confusion_matrix(y_test, y_pred, labels=None, \n",
        "                                              sample_weight=None))\n",
        "print(\"Recall =\", metrics.recall_score(y_test, y_pred, labels=None, \n",
        "                                             pos_label=1, average='weighted', \n",
        "                                             sample_weight=None))\n",
        "print(\"Classification Report =\\n\", metrics.classification_report(y_test, y_pred, \n",
        "                                                                 labels=None, \n",
        "                                                                 target_names=None, \n",
        "                                                                 sample_weight=None, \n",
        "                                                                  digits=2, \n",
        "                                                                 output_dict=False))\n",
        "print(\"F1 Score = \",f1_score(y_test, y_pred, average='macro'))"
      ],
      "execution_count": null,
      "outputs": [
        {
          "output_type": "stream",
          "name": "stdout",
          "text": [
            "Random\n",
            "Accuracy =  87.54021512281265\n",
            "Confusion Matrix =\n",
            " [[14234     0     0     0     2     0     0     0]\n",
            " [    3 33826     5     0 16083     0     0     0]\n",
            " [    1     0 49826    36     8     0     0     0]\n",
            " [    1     1    28 49859     6     0   391     6]\n",
            " [    1 21332     1    13 25233     0     1    18]\n",
            " [    0     0     1     2     1 50174     1     2]\n",
            " [    0     0     0   680     6     0 49152    61]\n",
            " [    1     0     1     7    21     1    84   340]]\n",
            "Recall = 0.8754021512281265\n",
            "Classification Report =\n",
            "               precision    recall  f1-score   support\n",
            "\n",
            "           0       1.00      1.00      1.00     14236\n",
            "           1       0.61      0.68      0.64     49917\n",
            "           2       1.00      1.00      1.00     49871\n",
            "           3       0.99      0.99      0.99     50292\n",
            "           4       0.61      0.54      0.57     46599\n",
            "           5       1.00      1.00      1.00     50181\n",
            "           6       0.99      0.99      0.99     49899\n",
            "           7       0.80      0.75      0.77       455\n",
            "\n",
            "    accuracy                           0.88    311450\n",
            "   macro avg       0.87      0.87      0.87    311450\n",
            "weighted avg       0.88      0.88      0.87    311450\n",
            "\n",
            "F1 Score =  0.8704306995131101\n"
          ]
        }
      ]
    },
    {
      "cell_type": "code",
      "metadata": {
        "id": "674hO8pH-Zqc"
      },
      "source": [
        "import matplotlib.pyplot as plt\n",
        "from sklearn.metrics import confusion_matrix, plot_confusion_matrix"
      ],
      "execution_count": null,
      "outputs": []
    },
    {
      "cell_type": "code",
      "metadata": {
        "colab": {
          "base_uri": "https://localhost:8080/",
          "height": 279
        },
        "id": "1DH4h2Li-aa_",
        "outputId": "729165e1-b468-477f-a6d5-55d5f5e7257f"
      },
      "source": [
        "plot_confusion_matrix(classifier, X_train, y_train)\n",
        "plt.show()"
      ],
      "execution_count": null,
      "outputs": [
        {
          "output_type": "display_data",
          "data": {
            "image/png": "[encoded data removed]",
            "text/plain": [
              "<Figure size 432x288 with 2 Axes>"
            ]
          },
          "metadata": {
            "needs_background": "light"
          }
        }
      ]
    }
  ]
}