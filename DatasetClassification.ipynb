{
  "nbformat": 4,
  "nbformat_minor": 0,
  "metadata": {
    "colab": {
      "name": "Untitled0.ipynb",
      "provenance": [],
      "authorship_tag": "ABX9TyOx/72ohADEG1XihAihQmvN",
      "include_colab_link": true
    },
    "kernelspec": {
      "name": "python3",
      "display_name": "Python 3"
    },
    "language_info": {
      "name": "python"
    }
  },
  "cells": [
    {
      "cell_type": "markdown",
      "metadata": {
        "id": "view-in-github",
        "colab_type": "text"
      },
      "source": [
        "<a href=\"https://colab.research.google.com/github/chitsikaR/CHTTEN011_FinalYearProject/blob/main/DatasetClassification.ipynb\" target=\"_parent\"><img src=\"https://colab.research.google.com/assets/colab-badge.svg\" alt=\"Open In Colab\"/></a>"
      ]
    },
    {
      "cell_type": "code",
      "metadata": {
        "id": "m1Y1CbjN-4c_"
      },
      "source": [
        "\"\"\" Classify rows from CSV files with SVM with leave-one-out cross-validation;\n",
        "labels taken from first column, of the form 'label_description'. \"\"\"\n",
        "import sys\n",
        "import pandas\n",
        "from sklearn import svm, cross_validation, preprocessing\n",
        "data = pandas.read_csv(sys.argv[1])\n",
        "xdata = data.as_matrix(data.columns[1:])\n",
        "#xdata = preprocessing.scale(xdata)  # normalize data => mean of 0, stddev of 1\n",
        "ylabels = [a.split('_')[0] for a in data.icol(0)]\n",
        "ytarget = preprocessing.LabelEncoder().fit(ylabels).transform(ylabels)\n",
        "linearsvc = svm.SVC(kernel='linear')\n",
        "scores = pandas.Series(index=data.icol(0))\n",
        "for train, test in cross_validation.LeaveOneOut(n=len(ytarget)):\n",
        "\tclassifier = linearsvc.fit(xdata[train], ytarget[train])\n",
        "\tscores.iloc[test[0]] = classifier.score(xdata[test], ytarget[test])\n",
        "print 'Scores:\\n', scores\n",
        "print 'Accuracy: %0.2f %%' % (100 * scores.mean(), )"
      ],
      "execution_count": null,
      "outputs": []
    }
  ]
}